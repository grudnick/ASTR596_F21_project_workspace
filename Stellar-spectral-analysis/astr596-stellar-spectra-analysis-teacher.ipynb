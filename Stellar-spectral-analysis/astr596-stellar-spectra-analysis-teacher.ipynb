{
 "cells": [
  {
   "cell_type": "markdown",
   "id": "10c2a914",
   "metadata": {},
   "source": [
    "# Spectral analysis assignment\n",
    "\n",
    "In this assignment you will perform a set of operations involving spectra.  \n",
    "\n",
    "**This assignment is due at noon on September 13.**  Your final version needs to be uploaded to your github repository by this time.\n",
    "\n",
    "By the end of this activity you will have learned how to do the following things:\n",
    "* Read in spectral files for stars\n",
    "* plot the spectra of three stars\n",
    "* determine the dispersion of the spectrograph in Angstrom/pixel\n",
    "* measure $f_\\lambda$ of each star at a specific wavelength.\n",
    "* Given a frequency, derive $f_\\nu$ at that frequency\n",
    "* Calculate the B-V color of each star by convolving the spectrum with the appropriate filter curves.  compare to the published values.  During this step you will do the following calculations:\n",
    "  * measure the magnitude using the central flux in each filter\n",
    "  * Figure out your own way to estimate the color more accurately using the filter curve\n",
    "  * repeat the same procedure using the speclite library to get the \"correct\" answer.\n",
    "  * comment on the differences"
   ]
  },
  {
   "cell_type": "markdown",
   "id": "4791e002",
   "metadata": {},
   "source": [
    "### The spectral library\n",
    "\n",
    "We will be using the \"Indo-US Spectral Atlas\" of bright stars.  I have downloaded three stellar spectra and they are included in my github repository."
   ]
  }
 ],
 "metadata": {
  "kernelspec": {
   "display_name": "Python 3",
   "language": "python",
   "name": "python3"
  },
  "language_info": {
   "codemirror_mode": {
    "name": "ipython",
    "version": 3
   },
   "file_extension": ".py",
   "mimetype": "text/x-python",
   "name": "python",
   "nbconvert_exporter": "python",
   "pygments_lexer": "ipython3",
   "version": "3.7.10"
  }
 },
 "nbformat": 4,
 "nbformat_minor": 5
}
