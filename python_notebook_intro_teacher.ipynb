{
 "cells": [
  {
   "cell_type": "markdown",
   "metadata": {},
   "source": [
    "<h1>Python and Jupyter Notebook tutorials</h1>\n",
    "\n",
    "The purpose of this exercise is to get you used to many of the python tasks that we will be using in this class.  Each exercise will have descriptions and instructions in the text and as comments in the code.  In many cases you will need to add code of your own and print outputs.  \n",
    "\n",
    "You will need to read everything in this notebook.  \n",
    "\n",
    "Work that you need to do will be indicated by the heading \n",
    "## Problem (\\<number of points\\>)\n",
    "\n",
    "As part of the Assignment you will somtimes need to write \"markdown\" text by creating a new cell and selecting the \"Markdown\" option from the pulldown menu.  In other cases you will need to write code.  This will be indicated by the text `####Write code here:` inside of a code cell.\n",
    "\n",
    "### Due Date\n",
    "The assignment must be handed in by September 3rd, at noon.  \n",
    "\n",
    "### Completion instructions\n",
    "\n",
    "You will need to do the following to hand in the assignment.\n",
    "1. Clone the assignment repository to a location on your computer.\n",
    "2. Using your account on the Github web page, make a Github repository for this assignment.  It must have the name \"Python_notebook_intro\"\n",
    "3. Clone that repository to your local computer.  Make sure that you do **not** clone the repository into the same directory as my original repository.  It can be in the same parent directory as mine, but it might be a useful organizational strategy to make all of my repositories go in one directory, and all of your repositories go into another.\n",
    "4. Copy this file into your new repository and perform the following steps\n",
    "* `git add python_notebook_intro_student.ipynb`\n",
    "* `git commit -m \"initial commit\"`\n",
    "* `git push`\n",
    "\n",
    "This will commit your intial copy to your own repository\n",
    "\n",
    "5. Complete the exercise.  Any time you finish a block of work, push your activity back to the repository using the three commands above, but changing the \"initial commit\" comment to write a note about your current version.\n",
    "6. When you are done with the assignment, make sure to commit it one last time.  I will grade the most recent version that is on GitHub."
   ]
  },
  {
   "cell_type": "markdown",
   "metadata": {},
   "source": [
    "<h1>Importing Modules</h1>\n",
    "\n",
    "When writing code, you will always have to import the libraries of code that you want to use. For example, if you want an easy way to get the value pi, one way to do this would be to import scipy's constants library. There are a few ways to do this:"
   ]
  },
  {
   "cell_type": "code",
   "execution_count": 1,
   "metadata": {},
   "outputs": [
    {
     "name": "stdout",
     "output_type": "stream",
     "text": [
      "3.141592653589793\n",
      "3.141592653589793\n",
      "3.141592653589793\n",
      "3.141592653589793\n"
     ]
    }
   ],
   "source": [
    "#This will import the *entire* scipy library. This can be inefficient because it will load in all of scipy's available \n",
    "#functions and modules.\n",
    "import scipy\n",
    "print(scipy.pi)\n",
    "\n",
    "#This will only import the constants library in scipy, which has a ton of available constants\n",
    "#See: https://docs.scipy.org/doc/scipy/reference/constants.html\n",
    "import scipy.constants\n",
    "print(scipy.pi)\n",
    "\n",
    "#This again imports the entire scipy library, but allows us to access it using 'spy' instead of having to write\n",
    "# scipy everytime.  This is convenient as it allows us to rename libraries with shorter names that make for \n",
    "#compact coding\n",
    "import scipy as spy\n",
    "print(spy.pi)\n",
    "\n",
    "#This allows us to succinctly import the exact thing we want from scipy; in this case, pi\n",
    "from scipy.constants import pi\n",
    "print(pi)\n"
   ]
  },
  {
   "cell_type": "markdown",
   "metadata": {},
   "source": [
    "### What are the differences between modules, libraries, and packages\n",
    "\n",
    "The following definitions are from https://www.geeksforgeeks.org/what-is-the-difference-between-pythons-module-package-and-library/\n",
    "\n",
    "**Module**: The module is a simple Python file that contains collections of functions and global variables and with having a .py extension file. It is an executable file and to organize all the modules we have the concept called Package in Python\n",
    "\n",
    "**Package**: The package is a simple directory having collections of modules. This directory contains Python modules and also having __init__.py file by which the interpreter interprets it as a Package. The package is simply a namespace. The package also contains sub-packages inside it.\n",
    "\n",
    "**Library**: The library is having a collection of related functionality of codes that allows you to perform many tasks without writing your code. It is a reusable chunk of code that we can use by importing it in our program, we can just use it by importing that library and calling the method of that library with period(.)."
   ]
  },
  {
   "cell_type": "markdown",
   "metadata": {},
   "source": [
    "## Problem\n",
    "Now, I want you to practice importing some libraries. I want you to do the following:\n",
    "<ol> \n",
    "    <li>Import the library \"numpy\" so that you can use the abbreviation \"np\" to access it</li> \n",
    "    <li>Import the entire \"astropy\" library</li>\n",
    "    <li>Import the \"pylot\" module of the \"matplotlib\" library with the abbreviation \"plt\"</li>\n",
    "    <li>Print the value of the built-in constat \"e\" as used in $e^3$ in the numpy module using your np name.\n",
    "</ol>\n"
   ]
  },
  {
   "cell_type": "code",
   "execution_count": 5,
   "metadata": {},
   "outputs": [
    {
     "name": "stdout",
     "output_type": "stream",
     "text": [
      "2.718281828459045\n"
     ]
    }
   ],
   "source": [
    "####Write code here:\n",
    "\n",
    "import numpy as np\n",
    "import astropy\n",
    "import matplotlib.pyplot as plt\n",
    "print(np.e)\n",
    "\n"
   ]
  },
  {
   "cell_type": "markdown",
   "metadata": {},
   "source": [
    "The libraries you just imported are very important, and will be used often. You can find their documentation at the following sites:\n",
    "<ul>\n",
    "    <li>numpy: https://numpy.org/doc/1.18/reference/ </li>\n",
    "    <li>astropy: https://docs.astropy.org/en/stable/ </li>\n",
    "    <li>Matplotlib: https://matplotlib.org/tutorials/index.html#introductory </li>\n",
    "    <li>Pyplot (part of matplotlib): https://matplotlib.org/tutorials/introductory/pyplot.html </li>\n",
    "</ul>"
   ]
  },
  {
   "cell_type": "markdown",
   "metadata": {},
   "source": [
    "<h1>Functions</h1>\n",
    "<p>Now, we will go over the basic use of functions in python. Say we have a simple function, we'll call it summation, which takes in two variables and adds them. This function would look something like this:</p>"
   ]
  },
  {
   "cell_type": "code",
   "execution_count": 5,
   "metadata": {},
   "outputs": [],
   "source": [
    "def summation(a, b):\n",
    "    return (a + b)"
   ]
  },
  {
   "cell_type": "markdown",
   "metadata": {},
   "source": [
    "Now, you might be wondering what 'return' here means. Well, it does exactly what its name says- it <i>returns</i> the following value to wherever the function was used. Lets see what this looks like. Say I have a varible x= 2, and a variable y = 5, and I want to use my special function to add them and save their sum to the variable my_sum:"
   ]
  },
  {
   "cell_type": "code",
   "execution_count": 6,
   "metadata": {},
   "outputs": [
    {
     "name": "stdout",
     "output_type": "stream",
     "text": [
      "7\n"
     ]
    }
   ],
   "source": [
    "x = 2\n",
    "y = 5\n",
    "my_sum = summation(x, y)\n",
    "print(my_sum)"
   ]
  },
  {
   "cell_type": "markdown",
   "metadata": {},
   "source": [
    "<p>There we go! So, what's happening here? Well, the return statement in our function definition of summation, <i>returned</i> the sum of x and y into the varible my_sum. In other words, and as you can see, we set the new variable my_sum equal to the value that our function summation returned. </p>\n",
    "\n",
    "<p>To use more technical lingo, when we defined the varaible my_sum, we <i>called</i> the function summation, which <i>returned</i> the apporpriate value and saved it as the variable my_sum. <u>Note that the names of the variables in the function definition (i.e a,b) do <b>not</b> have to match the names of the variables in the function call (i.e x,y). It is only the <b>order</b> that matters (here, we are setting a=x and b=y).</u></p>"
   ]
  },
  {
   "cell_type": "markdown",
   "metadata": {},
   "source": [
    "## Problem \n",
    "\n",
    "<p>Now, I want you to write a simple function that returns the volume of a sphere of radius R. You should use the value of pi in the numpy library you previously imported (you import numpy as np, so you can simply use np.pi). After you write your function, I want you to find the volumes of spheres with radii: 1, 5, 10 and print them out (check your answer by hand!)</p>\n",
    "\n",
    "Within a code block, it is important that the function definition be placed before your code that calls the function, as the code is read by the computer line by line and the function needs to be defined before it is executed.\n"
   ]
  },
  {
   "cell_type": "code",
   "execution_count": 6,
   "metadata": {},
   "outputs": [
    {
     "name": "stdout",
     "output_type": "stream",
     "text": [
      "4.1887902047863905\n",
      "523.5987755982989\n",
      "4188.790204786391\n"
     ]
    }
   ],
   "source": [
    "####Write code here\n",
    "\n",
    "def sphere_volume(r):\n",
    "    return (4*np.pi/3)*(r**3)\n",
    "\n",
    "R= 1\n",
    "my_volume = sphere_volume(R)\n",
    "print(my_volume)\n",
    "\n",
    "R= 5\n",
    "my_volume = sphere_volume(R)\n",
    "print(my_volume)\n",
    "\n",
    "R = 10\n",
    "my_volume = sphere_volume(R)\n",
    "print(my_volume)"
   ]
  },
  {
   "cell_type": "markdown",
   "metadata": {},
   "source": [
    "<h1> Args and kwargs </h1>\n",
    "<p>Thus far, we have handled the simplest case of functions. However, lets consider something a bit more complicated. Lets say I want to write a function which returns the sum of any number of varibles, such that it will work for 2, 5, or even a million varibles. How would I do this? Well, this is where the idea of args comes into play.</p1>\n",
    "<h3>Args</h3>\n",
    "<p>Python allows us to use an asterisk in front of the input parameter in a function definition to indicate that we wish for that parameter to be of varible length. For example, if I wanted to write the sum function we just described:</p>"
   ]
  },
  {
   "cell_type": "code",
   "execution_count": 8,
   "metadata": {},
   "outputs": [
    {
     "name": "stdout",
     "output_type": "stream",
     "text": [
      "num =  2  and sum_value =  2\n",
      "num =  5  and sum_value =  7\n",
      "num =  3  and sum_value =  10\n",
      "final value returned by function is my_sum =  10\n"
     ]
    }
   ],
   "source": [
    "def sum_multiple(*numbers):\n",
    "    #this initializes the variable to zero\n",
    "    sum_value = 0\n",
    "    \n",
    "    #This loops over all the arguments passed to the function.  It assignes each of those in turn \n",
    "    #to the same variable name \"num\".  \n",
    "    for num in numbers:\n",
    "        #This adds the value of \"num\", which is the next item in the argument list to \"sum_value\".  \n",
    "        sum_value += num\n",
    "        print('num = ', num, ' and sum_value = ', sum_value)\n",
    "    return sum_value\n",
    "\n",
    "a = 2\n",
    "b = 5\n",
    "c=  3\n",
    "my_sum = sum_multiple(a, b, c)\n",
    "print('final value returned by function is my_sum = ', my_sum)"
   ]
  },
  {
   "cell_type": "markdown",
   "metadata": {},
   "source": [
    "<p>So, what just happened? Well, when I wrote the function sum_multiple, I put an asterisk in front of the input parameter numbers, which will cause the inputted values to be inputted as a list of any size. This allowed me to iterate through all the values I put into sum_multiple to add them all up.</p>\n",
    "<h3>keyword Arguments (kwargs(</h3>\n",
    "\n",
    "Sometimes functions can accept variables that are indicated by names.  These are called \"keyword arguments\" or \"kwargs\".  This is most often used to indicate variables that are optional, i.e. those that have a default value.  You will not be expected to write functions with optional kwargs (though you are encouraged to try), but you but many of the functions you use will have them.  To find out what keyword arguments are used, it is best to read the documentation.  One example is the `print` function (https://docs.python.org/3/library/functions.html#print).  The built-in `print` function accepts the optional `sep`, `end`, `file`, and `flush` attributes as keyword-only arguments.  Here is an example of how they work."
   ]
  },
  {
   "cell_type": "code",
   "execution_count": 14,
   "metadata": {},
   "outputs": [
    {
     "name": "stdout",
     "output_type": "stream",
     "text": [
      "a b c\n",
      "a, b, c\n"
     ]
    }
   ],
   "source": [
    "print('a', 'b', 'c')\n",
    "print('a', 'b', 'c', sep = ', ')"
   ]
  },
  {
   "cell_type": "markdown",
   "metadata": {},
   "source": [
    "## Problem\n",
    "\n",
    "1. Write a function that multiplies three numbers using 3 separate input arguments.  This function should return the result.  Call this function using the values 1.0, 2.2, and 3.3 and print the result.\n",
    "2. Write a new function that multiples an arbitrary number of arguments. This function should return the result.  Call this function using the values 1.0, 2.2, 3.3, and 4.4 and print the result.\n",
    "2. Write a new function that multiples three numbers using 3 separate input arguments.  This function should return the result.  The function should also print the arguments on line, each separated by a \": \" using an optional keyword argument in the `print()` command.  Call this function using the values 1.0, 2.2, and 3.3."
   ]
  },
  {
   "cell_type": "code",
   "execution_count": 15,
   "metadata": {},
   "outputs": [],
   "source": [
    "####write code here\n",
    "#function 1"
   ]
  },
  {
   "cell_type": "code",
   "execution_count": 16,
   "metadata": {},
   "outputs": [],
   "source": [
    "####write code here\n",
    "#function 2"
   ]
  },
  {
   "cell_type": "code",
   "execution_count": null,
   "metadata": {},
   "outputs": [],
   "source": [
    "####write code here\n",
    "#function 3"
   ]
  },
  {
   "cell_type": "markdown",
   "metadata": {},
   "source": [
    "<h1>Array indexing and slicing</h1>\n",
    "<p>One of the most important skills in coding is the ability to index and slice arrays. Generally, indexing refers to accessing values of arrays at a certain position, and slicing refers to taking 'slices' of an array (i.e values from a range of positions). We'll go over basic indexing first.</p>\n",
    "<h3>Indexing</h3>\n",
    "<p>Firstly, <b>indexing in python starts at 0</b>. That is, the first value in an array (or list, they work the same), has index 0, the second value has index 1, and so on and so forth. You can also index an array in reverse with negative numbers. For example, an index of -1 accesses the last value of a list (very useful for when you don't yet know the length of a list!), -2 accesses the 2nd to last value, and so on and so forth. You can change the value of a certain index of a list by accessing the element and simply setting it equal to a different value. Lets do some basic practice.</p>\n",
    "<p>I want you to:\n",
    "    <ol>\n",
    "        <li>Print the 1st and 3rd element in the list</li>\n",
    "        <li>Print the last item in the list two different ways</li>\n",
    "        <li>Set the 5th element in the list to 0 (print its value before and after)</li>\n",
    "    </ol>\n",
    "<b>Remember:</b> The first element has an index of 0, so if, for example, you want the 3rd element in the list, this corresponds to the 2nd index.\n",
    "</p>\n"
   ]
  },
  {
   "cell_type": "code",
   "execution_count": 18,
   "metadata": {},
   "outputs": [
    {
     "name": "stdout",
     "output_type": "stream",
     "text": [
      "4 7\n",
      "15 15\n",
      "5\n",
      "0\n"
     ]
    }
   ],
   "source": [
    "my_list = [4, 2, 7, 1, 5, 1, 9, 6, 8, 3, 13, 7, 4, 15] #14 values\n",
    "\n",
    "#WRITE CODE HERE\n",
    "print( my_list[0],my_list[2])\n",
    "print( my_list[-1], my_list[13])\n",
    "print( my_list[4] )\n",
    "my_list[4] = 0\n",
    "print( my_list[4] )"
   ]
  },
  {
   "cell_type": "markdown",
   "metadata": {},
   "source": [
    "<h3>Slicing</h3>\n",
    "<p> Slicing refers to handling sub-lists in the overall list. For example, if you wanted to access the 3rd, 4th, and 5th elements of a list, you would slice the overall list. The syntax of array slicing is as follows. If I have a list, my_list, slicing looks like:</p>\n",
    "<p>my_list[start:stop:step]</p>\n",
    "<p>Where <b>start</b> is the index to start the slice at, <b>stop</b> is the index to stop at but <u>not include</u>, and <b>step</b> allows us to change the spacing between the values we pull, where the default value is 1 (which takes every element in the slice range.</p> \n",
    "<p>Let's see this in action. First, we'll make a list of numbers:</p>\n"
   ]
  },
  {
   "cell_type": "code",
   "execution_count": 21,
   "metadata": {},
   "outputs": [],
   "source": [
    "nums = [ 5, 10, 15, 20, 25, 30, 35, 40, 45, 50, 55, 60]"
   ]
  },
  {
   "cell_type": "markdown",
   "metadata": {},
   "source": [
    "<p>Let's say that I want to a new list which has the 3rd, 4th, 5th, and 6th elements of nums. Rather than tediously indexing each element individually, we can use slicing:</p>"
   ]
  },
  {
   "cell_type": "code",
   "execution_count": 24,
   "metadata": {},
   "outputs": [
    {
     "name": "stdout",
     "output_type": "stream",
     "text": [
      "[15, 20, 25, 30]\n"
     ]
    }
   ],
   "source": [
    "nums_subset1 = nums[2:6:1] #Start: Index = 2, Stop: Index = 6, Step: 1\n",
    "print(nums_subset)"
   ]
  },
  {
   "cell_type": "markdown",
   "metadata": {},
   "source": [
    "Now, let's say that I want to make a list of every 3rd element in nums, start with the first element:"
   ]
  },
  {
   "cell_type": "code",
   "execution_count": 26,
   "metadata": {},
   "outputs": [
    {
     "name": "stdout",
     "output_type": "stream",
     "text": [
      "[5, 20, 35, 50]\n"
     ]
    }
   ],
   "source": [
    "nums_subset2 = nums[0:-1:3] #Start: Index = 0, Stop: Index = -1 (last element), Step: 3\n",
    "print(nums_subset2)"
   ]
  },
  {
   "cell_type": "markdown",
   "metadata": {},
   "source": [
    "Now, python allows some shorthands which make this even easier. As previously stated, <b>step</b> defaults to 1, and we also note that <b>start</b> and <b>stop</b> will cover the entire range of the list by default. So, we can rewrite the above examples:"
   ]
  },
  {
   "cell_type": "code",
   "execution_count": 38,
   "metadata": {},
   "outputs": [
    {
     "name": "stdout",
     "output_type": "stream",
     "text": [
      "[15, 20, 25, 30]\n",
      "[5, 20, 35, 50]\n"
     ]
    }
   ],
   "source": [
    "nums_subset1 = nums[2:6] \n",
    "nums_subset2 = nums[::3] \n",
    "print(nums_subset1)\n",
    "print(nums_subset2)"
   ]
  },
  {
   "cell_type": "markdown",
   "metadata": {},
   "source": [
    "It's your turn now! Given the list below, I want you to:\n",
    "<ol>\n",
    "    <li>Slice and print the last 3 items of the list (<i>Hint</i>: recall that stop defaults to including the entire list, so you only need to specify a value of start)</li>\n",
    "        <li>Slice and print the 2nd to 6th element</li>\n",
    "        <li>Change the values of the 2nd to 6th slice in the original list to 0 and print the entire list to confirm your result.</li>\n",
    "    </ol>"
   ]
  },
  {
   "cell_type": "code",
   "execution_count": 44,
   "metadata": {},
   "outputs": [
    {
     "name": "stdout",
     "output_type": "stream",
     "text": [
      "[70, 80, 90]\n",
      "[20, 30, 40, 50, 60]\n",
      "[10, 0, 0, 0, 0, 0, 70, 80, 90]\n"
     ]
    }
   ],
   "source": [
    "nums_test = [10, 20, 30, 40, 50, 60, 70, 80, 90]\n",
    "\n",
    "#WRITE CODE HERE\n",
    "print( nums_test[-3:] )\n",
    "\n",
    "print( nums_test[1:6] )\n",
    "\n",
    "nums_test[1:6] = [0,0,0,0,0]\n",
    "print( nums_test )"
   ]
  },
  {
   "cell_type": "code",
   "execution_count": null,
   "metadata": {},
   "outputs": [],
   "source": []
  }
 ],
 "metadata": {
  "kernelspec": {
   "display_name": "Python 3",
   "language": "python",
   "name": "python3"
  },
  "language_info": {
   "codemirror_mode": {
    "name": "ipython",
    "version": 3
   },
   "file_extension": ".py",
   "mimetype": "text/x-python",
   "name": "python",
   "nbconvert_exporter": "python",
   "pygments_lexer": "ipython3",
   "version": "3.7.10"
  }
 },
 "nbformat": 4,
 "nbformat_minor": 2
}
